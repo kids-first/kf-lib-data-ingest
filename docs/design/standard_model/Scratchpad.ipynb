{
 "cells": [
  {
   "cell_type": "code",
   "execution_count": null,
   "metadata": {},
   "outputs": [],
   "source": [
    "import os\n",
    "from pprint import pprint\n",
    "import pandas as pd\n",
    "import networkx as nx\n",
    "import matplotlib.pyplot as plt\n",
    "%matplotlib inline\n",
    "plt.rcParams['figure.figsize'] = [10, 10]\n",
    "\n",
    "from etl.configuration.target_api_config import TargetAPIConfig\n",
    "from etl.transform.standard_model.graph import ConceptNode\n",
    "from etl.transform.standard_model.concept_schema import (\n",
    "    CONCEPT,\n",
    "    DELIMITER,\n",
    "    concept_from\n",
    ")\n",
    "from etl.transform.standard_model.model import StandardModel\n",
    "from common.constants import *\n",
    "from helper import plotly_concept_graph\n",
    "\n",
    "KIDS_FIRST_CONFIG = '/Users/singhn4/Projects/kids_first/kf-lib-data-ingest/src/target_apis/kids_first.py'"
   ]
  },
  {
   "cell_type": "code",
   "execution_count": null,
   "metadata": {},
   "outputs": [],
   "source": [
    "data = {'pedigree': [{CONCEPT.FAMILY.ID: 'F1',\n",
    "                 CONCEPT.PARTICIPANT.ID: 'P1',\n",
    "                 CONCEPT.PARTICIPANT.RACE: RACE.ASIAN},\n",
    "                {CONCEPT.FAMILY.ID: 'F1',\n",
    "                 CONCEPT.PARTICIPANT.ID: 'P2',\n",
    "                CONCEPT.PARTICIPANT.RACE: None}],\n",
    "'subject_sample': [{CONCEPT.PARTICIPANT.ID: 'P1',\n",
    "                   CONCEPT.BIOSPECIMEN.ID: 'B1'},\n",
    "                  {CONCEPT.PARTICIPANT.ID: 'P1',\n",
    "                   CONCEPT.BIOSPECIMEN.ID: 'B2'},\n",
    "                  {CONCEPT.PARTICIPANT.ID: 'P2',\n",
    "                   CONCEPT.BIOSPECIMEN.ID: 'B3'}],\n",
    "'sample': [{CONCEPT.BIOSPECIMEN.ID: 'B1',\n",
    "           CONCEPT.PARTICIPANT.RACE: None},\n",
    "          {CONCEPT.BIOSPECIMEN.ID: 'B2',\n",
    "           CONCEPT.PARTICIPANT.RACE: None},\n",
    "          {CONCEPT.BIOSPECIMEN.ID: 'B3',\n",
    "           CONCEPT.PARTICIPANT.RACE: RACE.WHITE}]}\n",
    "df_dict = {f's3://bucket/key/{k}.csv': \n",
    "           (f'file:///study/configs/{k}.py', pd.DataFrame(v))\n",
    "      for k, v in data.items()}\n",
    "    \n",
    "model = StandardModel()\n",
    "model.populate(df_dict)\n",
    "g = model.concept_graph\n",
    "G = g.graph"
   ]
  },
  {
   "cell_type": "code",
   "execution_count": null,
   "metadata": {},
   "outputs": [],
   "source": [
    "from etl.transform.standard_model.concept_schema import _get_cls_attrs\n",
    "import json\n",
    "\n",
    "n = G.nodes['CONCEPT|FAMILY|ID|F1']['object']\n",
    "_get_cls_attrs(n)\n",
    "\n",
    "node_dict = ConceptNode.to_dict(n)\n",
    "n = ConceptNode.from_dict(node_dict)\n",
    "assert ConceptNode.to_dict(n) == node_dict\n",
    "\n",
    "def serialize(concept_node):\n",
    "    if isinstance(concept_node, ConceptNode):        \n",
    "        n = ConceptNode.to_dict(concept_node)\n",
    "        return json.dumps(n)\n",
    "    else:\n",
    "        return concept_node\n",
    "\n",
    "def deserialize(node_dict_str):\n",
    "    d = json.loads(node_dict_str)\n",
    "    node_obj_dict = ConceptNode.from_dict(d)\n",
    "    return node_obj_dict\n",
    "\n",
    "# print(\"\\n\".join(nx.generate_gml(G, stringizer=serialize)))\n",
    "\n",
    "nx.write_gml(G, 'test_graph.gml', stringizer=serialize)\n",
    "\n",
    "graph = nx.read_gml('test_graph.gml', destringizer=deserialize)\n",
    "\n",
    "N = graph.node.get('CONCEPT|FAMILY|ID|F1')['object']\n",
    "N.key\n",
    "N.uid"
   ]
  },
  {
   "cell_type": "code",
   "execution_count": null,
   "metadata": {},
   "outputs": [],
   "source": [
    "# nx.draw_networkx(g.graph, font_size=10)\n",
    "plotly_concept_graph(g.graph, notebook_mode=True)"
   ]
  },
  {
   "cell_type": "code",
   "execution_count": null,
   "metadata": {},
   "outputs": [],
   "source": [
    "# Basic graph\n",
    "graph = {'F1': set(['P1', 'P2']),\n",
    "         'P1': set(['F1', 'B1', 'B2']),\n",
    "         'P2': set(['F1', 'B3']),\n",
    "         'B1': set(['P1', 'White']),\n",
    "         'B2': set(['P1', 'White']),\n",
    "         'B3': set(['P2', 'White']),\n",
    "         'White': set()}\n",
    "# Build graph\n",
    "G = nx.DiGraph()\n",
    "for node, neighbors in graph.items():\n",
    "    for n in [node] + list(neighbors):\n",
    "        if not G.has_node:\n",
    "            G.add_node(n, name=f'Node: {n}')\n",
    "    for n in neighbors:\n",
    "        G.add_edge(node, n)\n",
    "nx.draw_networkx(G, font_size=10)"
   ]
  },
  {
   "cell_type": "code",
   "execution_count": null,
   "metadata": {},
   "outputs": [],
   "source": [
    "nx.write_gml(G, 'test_graph.gml')\n",
    "graph = nx.read_gml('test_graph.gml')"
   ]
  },
  {
   "cell_type": "code",
   "execution_count": null,
   "metadata": {},
   "outputs": [],
   "source": []
  }
 ],
 "metadata": {
  "kernelspec": {
   "display_name": "Python 3",
   "language": "python",
   "name": "python3"
  },
  "language_info": {
   "codemirror_mode": {
    "name": "ipython",
    "version": 3
   },
   "file_extension": ".py",
   "mimetype": "text/x-python",
   "name": "python",
   "nbconvert_exporter": "python",
   "pygments_lexer": "ipython3",
   "version": "3.7.0"
  }
 },
 "nbformat": 4,
 "nbformat_minor": 2
}
