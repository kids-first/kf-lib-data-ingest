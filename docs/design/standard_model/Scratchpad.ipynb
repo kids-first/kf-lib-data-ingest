{
 "cells": [
  {
   "cell_type": "code",
   "execution_count": 1,
   "metadata": {},
   "outputs": [
    {
     "name": "stderr",
     "output_type": "stream",
     "text": [
      "/Users/singhn4/Projects/kids_first/kf-lib-data-ingest/venv/lib/python3.6/importlib/_bootstrap.py:219: RuntimeWarning: numpy.dtype size changed, may indicate binary incompatibility. Expected 96, got 88\n",
      "  return f(*args, **kwds)\n",
      "/Users/singhn4/Projects/kids_first/kf-lib-data-ingest/venv/lib/python3.6/importlib/_bootstrap.py:219: RuntimeWarning: numpy.dtype size changed, may indicate binary incompatibility. Expected 96, got 88\n",
      "  return f(*args, **kwds)\n"
     ]
    }
   ],
   "source": [
    "import os\n",
    "from pprint import pprint\n",
    "import pandas as pd\n",
    "import networkx as nx\n",
    "import matplotlib.pyplot as plt\n",
    "%matplotlib inline\n",
    "plt.rcParams['figure.figsize'] = [10, 10]\n",
    "\n",
    "from etl.configuration.target_api_config import TargetAPIConfig\n",
    "from etl.transform.standard_model.concept_schema import (\n",
    "    CONCEPT,\n",
    "    DELIMITER,\n",
    "    concept_from\n",
    ")\n",
    "from etl.transform.standard_model.model import StandardModel\n",
    "from common.constants import *\n",
    "from helper import plotly_concept_graph\n",
    "\n",
    "KIDS_FIRST_CONFIG = '/Users/singhn4/Projects/kids_first/kf-lib-data-ingest/src/target_apis/kids_first.py'"
   ]
  },
  {
   "cell_type": "code",
   "execution_count": 2,
   "metadata": {},
   "outputs": [
    {
     "name": "stdout",
     "output_type": "stream",
     "text": [
      "\n",
      "Ancestors\n",
      "CONCEPT|STUDY\n",
      "CONCEPT|FAMILY\n",
      "CONCEPT|INVESTIGATOR\n",
      "\n",
      "Descendants\n",
      "CONCEPT|DIAGNOSIS\n",
      "CONCEPT|PHENOTYPE\n",
      "CONCEPT|BIOSPECIMEN\n",
      "CONCEPT|GENOMIC_FILE\n",
      "CONCEPT|OUTCOME\n"
     ]
    }
   ],
   "source": [
    "config = TargetAPIConfig(KIDS_FIRST_CONFIG)\n",
    "rg = config.relationship_graph\n",
    "print('\\nAncestors')\n",
    "for n in nx.ancestors(rg, CONCEPT.PARTICIPANT._CONCEPT_NAME):\n",
    "    print(n)\n",
    "print('\\nDescendants')\n",
    "for n in nx.descendants(rg, CONCEPT.PARTICIPANT._CONCEPT_NAME):\n",
    "    print(n)"
   ]
  },
  {
   "cell_type": "code",
   "execution_count": 3,
   "metadata": {},
   "outputs": [],
   "source": [
    "data = {'pedigree': [{CONCEPT.FAMILY.ID: 'F1',\n",
    "                 CONCEPT.PARTICIPANT.ID: 'P1',\n",
    "                 CONCEPT.PARTICIPANT.RACE: RACE.ASIAN},\n",
    "                {CONCEPT.FAMILY.ID: 'F1',\n",
    "                 CONCEPT.PARTICIPANT.ID: 'P2',\n",
    "                CONCEPT.PARTICIPANT.RACE: None}],\n",
    "'subject_sample': [{CONCEPT.PARTICIPANT.ID: 'P1',\n",
    "                   CONCEPT.BIOSPECIMEN.ID: 'B1'},\n",
    "                  {CONCEPT.PARTICIPANT.ID: 'P1',\n",
    "                   CONCEPT.BIOSPECIMEN.ID: 'B2'},\n",
    "                  {CONCEPT.PARTICIPANT.ID: 'P2',\n",
    "                   CONCEPT.BIOSPECIMEN.ID: 'B3'}],\n",
    "'sample': [{CONCEPT.BIOSPECIMEN.ID: 'B1',\n",
    "           CONCEPT.PARTICIPANT.RACE: None},\n",
    "          {CONCEPT.BIOSPECIMEN.ID: 'B2',\n",
    "           CONCEPT.PARTICIPANT.RACE: None},\n",
    "          {CONCEPT.BIOSPECIMEN.ID: 'B3',\n",
    "           CONCEPT.PARTICIPANT.RACE: RACE.WHITE}]}\n",
    "df_dict = {f's3://bucket/key/{k}.csv': \n",
    "           (f'file:///study/configs/{k}.py', pd.DataFrame(v))\n",
    "      for k, v in data.items()}\n",
    "    \n",
    "model = StandardModel()\n",
    "model.populate(df_dict)\n",
    "g = model.concept_graph"
   ]
  },
  {
   "cell_type": "code",
   "execution_count": 7,
   "metadata": {},
   "outputs": [
    {
     "data": {
      "text/html": [
       "<script>requirejs.config({paths: { 'plotly': ['https://cdn.plot.ly/plotly-latest.min']},});if(!window.Plotly) {{require(['plotly'],function(plotly) {window.Plotly=plotly;});}}</script>"
      ],
      "text/vnd.plotly.v1+html": [
       "<script>requirejs.config({paths: { 'plotly': ['https://cdn.plot.ly/plotly-latest.min']},});if(!window.Plotly) {{require(['plotly'],function(plotly) {window.Plotly=plotly;});}}</script>"
      ]
     },
     "metadata": {},
     "output_type": "display_data"
    },
    {
     "data": {
      "application/vnd.plotly.v1+json": {
       "data": [
        {
         "hoverinfo": "none",
         "line": {
          "color": "#888",
          "width": 0.5
         },
         "mode": "lines",
         "type": "scatter",
         "uid": "018b4e0c-c35a-11e8-959a-8c85907178da",
         "x": [
          -0.20383428189771444,
          -0.36496434779426756,
          null,
          -0.20383428189771444,
          -0.591980118385276,
          null,
          -0.20383428189771444,
          0.20855145644583292,
          null,
          -0.36496434779426756,
          -0.20383428189771444,
          null,
          -0.36496434779426756,
          -0.591980118385276,
          null,
          -0.36496434779426756,
          -0.24231800160209202,
          null,
          -0.36496434779426756,
          -0.4133715977809414,
          null,
          0.20855145644583292,
          -0.20383428189771444,
          null,
          0.20855145644583292,
          0.6079168910144586,
          null,
          -0.24231800160209202,
          -0.36496434779426756,
          null,
          -0.4133715977809414,
          -0.36496434779426756,
          null,
          0.6079168910144586,
          0.20855145644583292,
          null,
          0.6079168910144586,
          1,
          null
         ],
         "y": [
          -0.2306181710578172,
          -0.14406427835247024,
          null,
          -0.2306181710578172,
          -0.47912961236031953,
          null,
          -0.2306181710578172,
          0.010057644403284561,
          null,
          -0.14406427835247024,
          -0.2306181710578172,
          null,
          -0.14406427835247024,
          -0.47912961236031953,
          null,
          -0.14406427835247024,
          0.055192666825072983,
          null,
          -0.14406427835247024,
          0.03804927734283531,
          null,
          0.010057644403284561,
          -0.2306181710578172,
          null,
          0.010057644403284561,
          0.2539802633383349,
          null,
          0.055192666825072983,
          -0.14406427835247024,
          null,
          0.03804927734283531,
          -0.14406427835247024,
          null,
          0.2539802633383349,
          0.010057644403284561,
          null,
          0.2539802633383349,
          0.4965322098610793,
          null
         ]
        },
        {
         "hoverinfo": "text",
         "marker": {
          "color": [
           5,
           7,
           2,
           4,
           2,
           2,
           3,
           1
          ],
          "colorbar": {
           "thickness": 15,
           "title": "Node Connections",
           "titleside": "right",
           "xanchor": "left"
          },
          "colorscale": "Viridis",
          "line": {
           "width": 2
          },
          "reversescale": true,
          "showscale": true,
          "size": 20
         },
         "mode": "markers+text",
         "text": [
          "FAMILY|ID|F1",
          "PARTICIPANT|ID|P1",
          "PARTICIPANT|RACE|Asian",
          "PARTICIPANT|ID|P2",
          "BIOSPECIMEN|ID|B1",
          "BIOSPECIMEN|ID|B2",
          "BIOSPECIMEN|ID|B3",
          "PARTICIPANT|RACE|White"
         ],
         "textposition": "top center",
         "type": "scatter",
         "uid": "018b5018-c35a-11e8-9493-8c85907178da",
         "x": [
          -0.20383428189771444,
          -0.36496434779426756,
          -0.591980118385276,
          0.20855145644583292,
          -0.24231800160209202,
          -0.4133715977809414,
          0.6079168910144586,
          1
         ],
         "y": [
          -0.2306181710578172,
          -0.14406427835247024,
          -0.47912961236031953,
          0.010057644403284561,
          0.055192666825072983,
          0.03804927734283531,
          0.2539802633383349,
          0.4965322098610793
         ]
        }
       ],
       "layout": {
        "annotations": [
         {
          "ax": -0.20383428189771444,
          "axref": "x",
          "ay": -0.2306181710578172,
          "ayref": "y",
          "x": -0.36496434779426756,
          "xref": "x",
          "y": -0.14406427835247024,
          "yref": "y"
         },
         {
          "ax": -0.20383428189771444,
          "axref": "x",
          "ay": -0.2306181710578172,
          "ayref": "y",
          "x": -0.591980118385276,
          "xref": "x",
          "y": -0.47912961236031953,
          "yref": "y"
         },
         {
          "ax": -0.20383428189771444,
          "axref": "x",
          "ay": -0.2306181710578172,
          "ayref": "y",
          "x": 0.20855145644583292,
          "xref": "x",
          "y": 0.010057644403284561,
          "yref": "y"
         },
         {
          "ax": -0.36496434779426756,
          "axref": "x",
          "ay": -0.14406427835247024,
          "ayref": "y",
          "x": -0.20383428189771444,
          "xref": "x",
          "y": -0.2306181710578172,
          "yref": "y"
         },
         {
          "ax": -0.36496434779426756,
          "axref": "x",
          "ay": -0.14406427835247024,
          "ayref": "y",
          "x": -0.591980118385276,
          "xref": "x",
          "y": -0.47912961236031953,
          "yref": "y"
         },
         {
          "ax": -0.36496434779426756,
          "axref": "x",
          "ay": -0.14406427835247024,
          "ayref": "y",
          "x": -0.24231800160209202,
          "xref": "x",
          "y": 0.055192666825072983,
          "yref": "y"
         },
         {
          "ax": -0.36496434779426756,
          "axref": "x",
          "ay": -0.14406427835247024,
          "ayref": "y",
          "x": -0.4133715977809414,
          "xref": "x",
          "y": 0.03804927734283531,
          "yref": "y"
         },
         {
          "ax": 0.20855145644583292,
          "axref": "x",
          "ay": 0.010057644403284561,
          "ayref": "y",
          "x": -0.20383428189771444,
          "xref": "x",
          "y": -0.2306181710578172,
          "yref": "y"
         },
         {
          "ax": 0.20855145644583292,
          "axref": "x",
          "ay": 0.010057644403284561,
          "ayref": "y",
          "x": 0.6079168910144586,
          "xref": "x",
          "y": 0.2539802633383349,
          "yref": "y"
         },
         {
          "ax": -0.24231800160209202,
          "axref": "x",
          "ay": 0.055192666825072983,
          "ayref": "y",
          "x": -0.36496434779426756,
          "xref": "x",
          "y": -0.14406427835247024,
          "yref": "y"
         },
         {
          "ax": -0.4133715977809414,
          "axref": "x",
          "ay": 0.03804927734283531,
          "ayref": "y",
          "x": -0.36496434779426756,
          "xref": "x",
          "y": -0.14406427835247024,
          "yref": "y"
         },
         {
          "ax": 0.6079168910144586,
          "axref": "x",
          "ay": 0.2539802633383349,
          "ayref": "y",
          "x": 0.20855145644583292,
          "xref": "x",
          "y": 0.010057644403284561,
          "yref": "y"
         },
         {
          "ax": 0.6079168910144586,
          "axref": "x",
          "ay": 0.2539802633383349,
          "ayref": "y",
          "x": 1,
          "xref": "x",
          "y": 0.4965322098610793,
          "yref": "y"
         }
        ],
        "hovermode": "closest",
        "margin": {
         "b": 20,
         "l": 5,
         "r": 5,
         "t": 40
        },
        "showlegend": false,
        "title": "<br>Concept Graph",
        "titlefont": {
         "size": 16
        },
        "xaxis": {
         "showgrid": false,
         "showticklabels": false,
         "zeroline": false
        },
        "yaxis": {
         "showgrid": false,
         "showticklabels": false,
         "zeroline": false
        }
       }
      },
      "text/html": [
       "<div id=\"3f57f1d0-2460-4197-b75d-248e97809731\" style=\"height: 525px; width: 100%;\" class=\"plotly-graph-div\"></div><script type=\"text/javascript\">require([\"plotly\"], function(Plotly) { window.PLOTLYENV=window.PLOTLYENV || {};window.PLOTLYENV.BASE_URL=\"https://plot.ly\";Plotly.newPlot(\"3f57f1d0-2460-4197-b75d-248e97809731\", [{\"hoverinfo\": \"none\", \"line\": {\"color\": \"#888\", \"width\": 0.5}, \"mode\": \"lines\", \"x\": [-0.20383428189771444, -0.36496434779426756, null, -0.20383428189771444, -0.591980118385276, null, -0.20383428189771444, 0.20855145644583292, null, -0.36496434779426756, -0.20383428189771444, null, -0.36496434779426756, -0.591980118385276, null, -0.36496434779426756, -0.24231800160209202, null, -0.36496434779426756, -0.4133715977809414, null, 0.20855145644583292, -0.20383428189771444, null, 0.20855145644583292, 0.6079168910144586, null, -0.24231800160209202, -0.36496434779426756, null, -0.4133715977809414, -0.36496434779426756, null, 0.6079168910144586, 0.20855145644583292, null, 0.6079168910144586, 1.0, null], \"y\": [-0.2306181710578172, -0.14406427835247024, null, -0.2306181710578172, -0.47912961236031953, null, -0.2306181710578172, 0.010057644403284561, null, -0.14406427835247024, -0.2306181710578172, null, -0.14406427835247024, -0.47912961236031953, null, -0.14406427835247024, 0.055192666825072983, null, -0.14406427835247024, 0.03804927734283531, null, 0.010057644403284561, -0.2306181710578172, null, 0.010057644403284561, 0.2539802633383349, null, 0.055192666825072983, -0.14406427835247024, null, 0.03804927734283531, -0.14406427835247024, null, 0.2539802633383349, 0.010057644403284561, null, 0.2539802633383349, 0.4965322098610793, null], \"type\": \"scatter\", \"uid\": \"018b4e0c-c35a-11e8-959a-8c85907178da\"}, {\"hoverinfo\": \"text\", \"marker\": {\"color\": [5, 7, 2, 4, 2, 2, 3, 1], \"colorbar\": {\"thickness\": 15, \"title\": \"Node Connections\", \"titleside\": \"right\", \"xanchor\": \"left\"}, \"colorscale\": \"Viridis\", \"line\": {\"width\": 2}, \"reversescale\": true, \"showscale\": true, \"size\": 20}, \"mode\": \"markers+text\", \"text\": [\"FAMILY|ID|F1\", \"PARTICIPANT|ID|P1\", \"PARTICIPANT|RACE|Asian\", \"PARTICIPANT|ID|P2\", \"BIOSPECIMEN|ID|B1\", \"BIOSPECIMEN|ID|B2\", \"BIOSPECIMEN|ID|B3\", \"PARTICIPANT|RACE|White\"], \"textposition\": \"top center\", \"x\": [-0.20383428189771444, -0.36496434779426756, -0.591980118385276, 0.20855145644583292, -0.24231800160209202, -0.4133715977809414, 0.6079168910144586, 1.0], \"y\": [-0.2306181710578172, -0.14406427835247024, -0.47912961236031953, 0.010057644403284561, 0.055192666825072983, 0.03804927734283531, 0.2539802633383349, 0.4965322098610793], \"type\": \"scatter\", \"uid\": \"018b5018-c35a-11e8-9493-8c85907178da\"}], {\"annotations\": [{\"ax\": -0.20383428189771444, \"axref\": \"x\", \"ay\": -0.2306181710578172, \"ayref\": \"y\", \"x\": -0.36496434779426756, \"xref\": \"x\", \"y\": -0.14406427835247024, \"yref\": \"y\"}, {\"ax\": -0.20383428189771444, \"axref\": \"x\", \"ay\": -0.2306181710578172, \"ayref\": \"y\", \"x\": -0.591980118385276, \"xref\": \"x\", \"y\": -0.47912961236031953, \"yref\": \"y\"}, {\"ax\": -0.20383428189771444, \"axref\": \"x\", \"ay\": -0.2306181710578172, \"ayref\": \"y\", \"x\": 0.20855145644583292, \"xref\": \"x\", \"y\": 0.010057644403284561, \"yref\": \"y\"}, {\"ax\": -0.36496434779426756, \"axref\": \"x\", \"ay\": -0.14406427835247024, \"ayref\": \"y\", \"x\": -0.20383428189771444, \"xref\": \"x\", \"y\": -0.2306181710578172, \"yref\": \"y\"}, {\"ax\": -0.36496434779426756, \"axref\": \"x\", \"ay\": -0.14406427835247024, \"ayref\": \"y\", \"x\": -0.591980118385276, \"xref\": \"x\", \"y\": -0.47912961236031953, \"yref\": \"y\"}, {\"ax\": -0.36496434779426756, \"axref\": \"x\", \"ay\": -0.14406427835247024, \"ayref\": \"y\", \"x\": -0.24231800160209202, \"xref\": \"x\", \"y\": 0.055192666825072983, \"yref\": \"y\"}, {\"ax\": -0.36496434779426756, \"axref\": \"x\", \"ay\": -0.14406427835247024, \"ayref\": \"y\", \"x\": -0.4133715977809414, \"xref\": \"x\", \"y\": 0.03804927734283531, \"yref\": \"y\"}, {\"ax\": 0.20855145644583292, \"axref\": \"x\", \"ay\": 0.010057644403284561, \"ayref\": \"y\", \"x\": -0.20383428189771444, \"xref\": \"x\", \"y\": -0.2306181710578172, \"yref\": \"y\"}, {\"ax\": 0.20855145644583292, \"axref\": \"x\", \"ay\": 0.010057644403284561, \"ayref\": \"y\", \"x\": 0.6079168910144586, \"xref\": \"x\", \"y\": 0.2539802633383349, \"yref\": \"y\"}, {\"ax\": -0.24231800160209202, \"axref\": \"x\", \"ay\": 0.055192666825072983, \"ayref\": \"y\", \"x\": -0.36496434779426756, \"xref\": \"x\", \"y\": -0.14406427835247024, \"yref\": \"y\"}, {\"ax\": -0.4133715977809414, \"axref\": \"x\", \"ay\": 0.03804927734283531, \"ayref\": \"y\", \"x\": -0.36496434779426756, \"xref\": \"x\", \"y\": -0.14406427835247024, \"yref\": \"y\"}, {\"ax\": 0.6079168910144586, \"axref\": \"x\", \"ay\": 0.2539802633383349, \"ayref\": \"y\", \"x\": 0.20855145644583292, \"xref\": \"x\", \"y\": 0.010057644403284561, \"yref\": \"y\"}, {\"ax\": 0.6079168910144586, \"axref\": \"x\", \"ay\": 0.2539802633383349, \"ayref\": \"y\", \"x\": 1.0, \"xref\": \"x\", \"y\": 0.4965322098610793, \"yref\": \"y\"}], \"hovermode\": \"closest\", \"margin\": {\"b\": 20, \"l\": 5, \"r\": 5, \"t\": 40}, \"showlegend\": false, \"title\": \"<br>Concept Graph\", \"titlefont\": {\"size\": 16}, \"xaxis\": {\"showgrid\": false, \"showticklabels\": false, \"zeroline\": false}, \"yaxis\": {\"showgrid\": false, \"showticklabels\": false, \"zeroline\": false}}, {\"showLink\": true, \"linkText\": \"Export to plot.ly\"})});</script>"
      ],
      "text/vnd.plotly.v1+html": [
       "<div id=\"3f57f1d0-2460-4197-b75d-248e97809731\" style=\"height: 525px; width: 100%;\" class=\"plotly-graph-div\"></div><script type=\"text/javascript\">require([\"plotly\"], function(Plotly) { window.PLOTLYENV=window.PLOTLYENV || {};window.PLOTLYENV.BASE_URL=\"https://plot.ly\";Plotly.newPlot(\"3f57f1d0-2460-4197-b75d-248e97809731\", [{\"hoverinfo\": \"none\", \"line\": {\"color\": \"#888\", \"width\": 0.5}, \"mode\": \"lines\", \"x\": [-0.20383428189771444, -0.36496434779426756, null, -0.20383428189771444, -0.591980118385276, null, -0.20383428189771444, 0.20855145644583292, null, -0.36496434779426756, -0.20383428189771444, null, -0.36496434779426756, -0.591980118385276, null, -0.36496434779426756, -0.24231800160209202, null, -0.36496434779426756, -0.4133715977809414, null, 0.20855145644583292, -0.20383428189771444, null, 0.20855145644583292, 0.6079168910144586, null, -0.24231800160209202, -0.36496434779426756, null, -0.4133715977809414, -0.36496434779426756, null, 0.6079168910144586, 0.20855145644583292, null, 0.6079168910144586, 1.0, null], \"y\": [-0.2306181710578172, -0.14406427835247024, null, -0.2306181710578172, -0.47912961236031953, null, -0.2306181710578172, 0.010057644403284561, null, -0.14406427835247024, -0.2306181710578172, null, -0.14406427835247024, -0.47912961236031953, null, -0.14406427835247024, 0.055192666825072983, null, -0.14406427835247024, 0.03804927734283531, null, 0.010057644403284561, -0.2306181710578172, null, 0.010057644403284561, 0.2539802633383349, null, 0.055192666825072983, -0.14406427835247024, null, 0.03804927734283531, -0.14406427835247024, null, 0.2539802633383349, 0.010057644403284561, null, 0.2539802633383349, 0.4965322098610793, null], \"type\": \"scatter\", \"uid\": \"018b4e0c-c35a-11e8-959a-8c85907178da\"}, {\"hoverinfo\": \"text\", \"marker\": {\"color\": [5, 7, 2, 4, 2, 2, 3, 1], \"colorbar\": {\"thickness\": 15, \"title\": \"Node Connections\", \"titleside\": \"right\", \"xanchor\": \"left\"}, \"colorscale\": \"Viridis\", \"line\": {\"width\": 2}, \"reversescale\": true, \"showscale\": true, \"size\": 20}, \"mode\": \"markers+text\", \"text\": [\"FAMILY|ID|F1\", \"PARTICIPANT|ID|P1\", \"PARTICIPANT|RACE|Asian\", \"PARTICIPANT|ID|P2\", \"BIOSPECIMEN|ID|B1\", \"BIOSPECIMEN|ID|B2\", \"BIOSPECIMEN|ID|B3\", \"PARTICIPANT|RACE|White\"], \"textposition\": \"top center\", \"x\": [-0.20383428189771444, -0.36496434779426756, -0.591980118385276, 0.20855145644583292, -0.24231800160209202, -0.4133715977809414, 0.6079168910144586, 1.0], \"y\": [-0.2306181710578172, -0.14406427835247024, -0.47912961236031953, 0.010057644403284561, 0.055192666825072983, 0.03804927734283531, 0.2539802633383349, 0.4965322098610793], \"type\": \"scatter\", \"uid\": \"018b5018-c35a-11e8-9493-8c85907178da\"}], {\"annotations\": [{\"ax\": -0.20383428189771444, \"axref\": \"x\", \"ay\": -0.2306181710578172, \"ayref\": \"y\", \"x\": -0.36496434779426756, \"xref\": \"x\", \"y\": -0.14406427835247024, \"yref\": \"y\"}, {\"ax\": -0.20383428189771444, \"axref\": \"x\", \"ay\": -0.2306181710578172, \"ayref\": \"y\", \"x\": -0.591980118385276, \"xref\": \"x\", \"y\": -0.47912961236031953, \"yref\": \"y\"}, {\"ax\": -0.20383428189771444, \"axref\": \"x\", \"ay\": -0.2306181710578172, \"ayref\": \"y\", \"x\": 0.20855145644583292, \"xref\": \"x\", \"y\": 0.010057644403284561, \"yref\": \"y\"}, {\"ax\": -0.36496434779426756, \"axref\": \"x\", \"ay\": -0.14406427835247024, \"ayref\": \"y\", \"x\": -0.20383428189771444, \"xref\": \"x\", \"y\": -0.2306181710578172, \"yref\": \"y\"}, {\"ax\": -0.36496434779426756, \"axref\": \"x\", \"ay\": -0.14406427835247024, \"ayref\": \"y\", \"x\": -0.591980118385276, \"xref\": \"x\", \"y\": -0.47912961236031953, \"yref\": \"y\"}, {\"ax\": -0.36496434779426756, \"axref\": \"x\", \"ay\": -0.14406427835247024, \"ayref\": \"y\", \"x\": -0.24231800160209202, \"xref\": \"x\", \"y\": 0.055192666825072983, \"yref\": \"y\"}, {\"ax\": -0.36496434779426756, \"axref\": \"x\", \"ay\": -0.14406427835247024, \"ayref\": \"y\", \"x\": -0.4133715977809414, \"xref\": \"x\", \"y\": 0.03804927734283531, \"yref\": \"y\"}, {\"ax\": 0.20855145644583292, \"axref\": \"x\", \"ay\": 0.010057644403284561, \"ayref\": \"y\", \"x\": -0.20383428189771444, \"xref\": \"x\", \"y\": -0.2306181710578172, \"yref\": \"y\"}, {\"ax\": 0.20855145644583292, \"axref\": \"x\", \"ay\": 0.010057644403284561, \"ayref\": \"y\", \"x\": 0.6079168910144586, \"xref\": \"x\", \"y\": 0.2539802633383349, \"yref\": \"y\"}, {\"ax\": -0.24231800160209202, \"axref\": \"x\", \"ay\": 0.055192666825072983, \"ayref\": \"y\", \"x\": -0.36496434779426756, \"xref\": \"x\", \"y\": -0.14406427835247024, \"yref\": \"y\"}, {\"ax\": -0.4133715977809414, \"axref\": \"x\", \"ay\": 0.03804927734283531, \"ayref\": \"y\", \"x\": -0.36496434779426756, \"xref\": \"x\", \"y\": -0.14406427835247024, \"yref\": \"y\"}, {\"ax\": 0.6079168910144586, \"axref\": \"x\", \"ay\": 0.2539802633383349, \"ayref\": \"y\", \"x\": 0.20855145644583292, \"xref\": \"x\", \"y\": 0.010057644403284561, \"yref\": \"y\"}, {\"ax\": 0.6079168910144586, \"axref\": \"x\", \"ay\": 0.2539802633383349, \"ayref\": \"y\", \"x\": 1.0, \"xref\": \"x\", \"y\": 0.4965322098610793, \"yref\": \"y\"}], \"hovermode\": \"closest\", \"margin\": {\"b\": 20, \"l\": 5, \"r\": 5, \"t\": 40}, \"showlegend\": false, \"title\": \"<br>Concept Graph\", \"titlefont\": {\"size\": 16}, \"xaxis\": {\"showgrid\": false, \"showticklabels\": false, \"zeroline\": false}, \"yaxis\": {\"showgrid\": false, \"showticklabels\": false, \"zeroline\": false}}, {\"showLink\": true, \"linkText\": \"Export to plot.ly\"})});</script>"
      ]
     },
     "metadata": {},
     "output_type": "display_data"
    }
   ],
   "source": [
    "# nx.draw_networkx(g.graph, font_size=10)\n",
    "plotly_concept_graph(g.graph, notebook_mode=True)"
   ]
  },
  {
   "cell_type": "code",
   "execution_count": 5,
   "metadata": {},
   "outputs": [
    {
     "name": "stdout",
     "output_type": "stream",
     "text": [
      "CONCEPT|PARTICIPANT|ID|P2\n",
      "CONCEPT|BIOSPECIMEN|ID|B3\n",
      "CONCEPT|PARTICIPANT|RACE|White\n",
      "White\n"
     ]
    }
   ],
   "source": [
    "def is_neighbor_valid(node_concept, neighbor, relation_graph):\n",
    "    # Ancestor concepts of node_key's concept \n",
    "    ancestors = [ancestor \n",
    "                 for ancestor in nx.ancestors(relation_graph, node_concept)]\n",
    "\n",
    "    # Valid - the neighbor is not in the set of ancestors\n",
    "    if neighbor.concept not in set(ancestors):\n",
    "        return True\n",
    "\n",
    "    # Check if the neighbor is connected to other nodes with the same concept\n",
    "    # or nodes with descendant concepts\n",
    "    descendants = [descendant \n",
    "                 for descendant in nx.descendants(relation_graph, node_concept)]\n",
    "    restrictions = set(descendants + [node_concept])\n",
    "\n",
    "    # Start the breadth first search\n",
    "    visited = set([neighbor.key])\n",
    "    queue = [neighbor]\n",
    "    \n",
    "    while queue:\n",
    "        current = queue.pop(0)\n",
    "        # Is this a restricted concept?\n",
    "        if current.concept in restrictions:\n",
    "            return False\n",
    "        \n",
    "        # Add neighbor nodes if they haven't been visited and\n",
    "        # they are identifier nodes. No need to look at attribute nodes\n",
    "        for node_key in nx.neighbors(g.graph, current.key):\n",
    "            node = g.get_node(node_key)\n",
    "            if (node.key not in visited) and node.is_identifier:\n",
    "                queue.append(node)\n",
    "                visited.add(node.key)\n",
    "    return True\n",
    "\n",
    "# Transformation\n",
    "def find_attribute_value(start_node, concept_attribute_str, relation_graph):\n",
    "    # Does graph contain any concept attributes of the target type?\n",
    "    if concept_attribute_str not in g.attribute_index:\n",
    "        return None\n",
    "    \n",
    "    # Init data structures\n",
    "    # Keep track of nodes visited\n",
    "    visited = set([start_node.key])\n",
    "    # Keep track of nodes to process\n",
    "    queue = [start_node]\n",
    "    \n",
    "    # Check directly connected neighbor nodes before searching graph\n",
    "    # Value for a given concept attribute is likely to be directly \n",
    "    # connected to its concept ID node since attributes for a particular\n",
    "    # concept are typically in the same table as the concept IDs.\n",
    "    for node_key in nx.neighbors(g.graph, start_node.key):\n",
    "        neighbor = g.get_node(node_key) \n",
    "        if neighbor.concept_attribute_pair == concept_attribute_str:\n",
    "            return neighbor.value\n",
    "        \n",
    "    # Search the graph for the attribute value\n",
    "    # Always search nearest neighbors of the current node\n",
    "    while queue:\n",
    "        current = queue.pop(0)\n",
    "        print(current.key)\n",
    "\n",
    "        # Found the node with the value for this concept attr\n",
    "        if current.concept_attribute_pair == concept_attribute_str:\n",
    "           return current.value\n",
    "        \n",
    "        for node_key in nx.neighbors(g.graph, current.key):\n",
    "            neighbor = g.get_node(node_key)\n",
    "            if (neighbor.key not in visited) and is_neighbor_valid(concept_from(concept_attribute_str), \n",
    "                                                               neighbor,\n",
    "                                                               relation_graph):\n",
    "                queue.append(neighbor)\n",
    "                visited.add(neighbor.key)\n",
    "\n",
    "    return None\n",
    "\n",
    "start_node = g.id_index[CONCEPT.PARTICIPANT._CONCEPT_NAME].get(f'{CONCEPT.PARTICIPANT.ID}{DELIMITER}P2')\n",
    "attribute_str = CONCEPT.PARTICIPANT.RACE\n",
    "value = find_attribute_value(start_node, attribute_str, rg)\n",
    "print(value)\n",
    "\n",
    "# is_neighbor_valid('CONCEPT|PARTICIPANT', \n",
    "#                   g.get_node('CONCEPT|FAMILY|ID|F1'),\n",
    "#                   rg)"
   ]
  },
  {
   "cell_type": "code",
   "execution_count": null,
   "metadata": {},
   "outputs": [],
   "source": [
    "# Basic graph\n",
    "graph = {'F1': set(['P1', 'P2']),\n",
    "         'P1': set(['F1', 'B1', 'B2']),\n",
    "         'P2': set(['F1', 'B3']),\n",
    "         'B1': set(['P1', 'White']),\n",
    "         'B2': set(['P1', 'White']),\n",
    "         'B3': set(['P2', 'White']),\n",
    "         'White': set()}\n",
    "# Build graph\n",
    "G = nx.DiGraph()\n",
    "for node, neighbors in graph.items():\n",
    "    for n in [node] + list(neighbors):\n",
    "        if not G.has_node:\n",
    "            G.add_node(n)\n",
    "    for n in neighbors:\n",
    "        G.add_edge(node, n)\n",
    "nx.draw_networkx(G, font_size=10)"
   ]
  },
  {
   "cell_type": "code",
   "execution_count": null,
   "metadata": {},
   "outputs": [],
   "source": [
    "from queue import Queue\n",
    "\n",
    "def shortest_path_bfs(graph, start, goal):\n",
    "    # Don't search, start = goal\n",
    "    if start == goal:\n",
    "        return goal\n",
    "    # Init data structures\n",
    "    visited, q = set(), Queue()\n",
    "    q.put((start, [start]))\n",
    "    \n",
    "    # Breadth first search\n",
    "    while not q.empty():\n",
    "        current, path = q.get()\n",
    "        print(path)\n",
    "        \n",
    "        if current == goal:\n",
    "           return path\n",
    "        \n",
    "        if current not in visited:\n",
    "            print(current)\n",
    "            visited.add(current)\n",
    "            for n in nx.neighbors(graph, current):\n",
    "                q.put((n, path + [n]))\n",
    "\n",
    "def bfs(graph, start, goal): \n",
    "    # Mark all the vertices as not visited \n",
    "    visited = set()\n",
    "\n",
    "    # Create a queue for BFS \n",
    "    queue = [] \n",
    "\n",
    "    # Mark the source node as  \n",
    "    # visited and enqueue it \n",
    "    queue.append(start) \n",
    "    visited.add(start)\n",
    "\n",
    "    while queue: \n",
    "        # Dequeue a vertex from  \n",
    "        # queue and print it \n",
    "        current = queue.pop(0)\n",
    "        print(current)\n",
    "        \n",
    "        if current == goal:\n",
    "            return True\n",
    "\n",
    "        # Get all adjacent vertices of the \n",
    "        # dequeued vertex s. If a adjacent \n",
    "        # has not been visited, then mark it \n",
    "        # visited and enqueue it \n",
    "        for n in nx.neighbors(graph, current): \n",
    "            if n not in visited: \n",
    "                queue.append(n) \n",
    "                visited.add(n)"
   ]
  },
  {
   "cell_type": "code",
   "execution_count": null,
   "metadata": {},
   "outputs": [],
   "source": [
    "# BFS\n",
    "start = 'P1'\n",
    "goal = 'White'\n",
    "bfs(G, start, goal)"
   ]
  }
 ],
 "metadata": {
  "kernelspec": {
   "display_name": "Python 3",
   "language": "python",
   "name": "python3"
  },
  "language_info": {
   "codemirror_mode": {
    "name": "ipython",
    "version": 3
   },
   "file_extension": ".py",
   "mimetype": "text/x-python",
   "name": "python",
   "nbconvert_exporter": "python",
   "pygments_lexer": "ipython3",
   "version": "3.6.5"
  }
 },
 "nbformat": 4,
 "nbformat_minor": 2
}
