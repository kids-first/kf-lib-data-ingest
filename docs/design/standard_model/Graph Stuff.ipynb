{
 "cells": [
  {
   "cell_type": "code",
   "execution_count": 18,
   "metadata": {},
   "outputs": [],
   "source": [
    "import networkx as nx\n",
    "import pandas as pd\n",
    "import random\n",
    "import matplotlib.pyplot as plt\n"
   ]
  },
  {
   "cell_type": "code",
   "execution_count": 19,
   "metadata": {},
   "outputs": [],
   "source": [
    "# Create data\n",
    "df_dict = {}\n",
    "# Participant - Sample\n",
    "df_dict['/participant-sample-config.py'] = pd.DataFrame([\n",
    "    {'PARTICIPANT|ID': 'P{}'.format(i),\n",
    "     'BIOSPECIMEN|ID': 'B{}'.format(i)}\n",
    "    for i in range(1, 3)\n",
    "])\n",
    "# Sample Attr\n",
    "df_dict['/sample-attr-config.py'] = pd.DataFrame([\n",
    "    {'BIOSPECIMEN|ID': 'B{}'.format(i),\n",
    "     'BIOSPECIMEN|TISSUE_TYPE': random.choice(['Tumor', 'Normal']),\n",
    "     'PARTICIPANT|CONSENT_TYPE': random.choice(['GRU', 'SPECIAL'])\n",
    "    }\n",
    "    for i in range(1, 3)\n",
    "])\n",
    "# Genomic files\n",
    "df_dict['/genomic-config.py'] = pd.DataFrame([\n",
    "    {'BIOSPECIMEN|ID': 'B{}'.format(i),\n",
    "     'GENOMIC_FILE|ID': 'GF{}'.format(i)\n",
    "    }\n",
    "    for i in range(1, 3)\n",
    "])"
   ]
  },
  {
   "cell_type": "code",
   "execution_count": 29,
   "metadata": {},
   "outputs": [
    {
     "name": "stdout",
     "output_type": "stream",
     "text": [
      "0 0 B1\n",
      "0 1 Normal\n",
      "0 2 GRU\n",
      "1 0 B2\n",
      "1 1 Tumor\n",
      "1 2 GRU\n"
     ]
    },
    {
     "data": {
      "text/html": [
       "<div>\n",
       "<style scoped>\n",
       "    .dataframe tbody tr th:only-of-type {\n",
       "        vertical-align: middle;\n",
       "    }\n",
       "\n",
       "    .dataframe tbody tr th {\n",
       "        vertical-align: top;\n",
       "    }\n",
       "\n",
       "    .dataframe thead th {\n",
       "        text-align: right;\n",
       "    }\n",
       "</style>\n",
       "<table border=\"1\" class=\"dataframe\">\n",
       "  <thead>\n",
       "    <tr style=\"text-align: right;\">\n",
       "      <th></th>\n",
       "      <th>BIOSPECIMEN|ID</th>\n",
       "      <th>BIOSPECIMEN|TISSUE_TYPE</th>\n",
       "      <th>PARTICIPANT|CONSENT_TYPE</th>\n",
       "    </tr>\n",
       "  </thead>\n",
       "  <tbody>\n",
       "    <tr>\n",
       "      <th>0</th>\n",
       "      <td>B1</td>\n",
       "      <td>Normal</td>\n",
       "      <td>GRU</td>\n",
       "    </tr>\n",
       "    <tr>\n",
       "      <th>1</th>\n",
       "      <td>B2</td>\n",
       "      <td>Tumor</td>\n",
       "      <td>GRU</td>\n",
       "    </tr>\n",
       "  </tbody>\n",
       "</table>\n",
       "</div>"
      ],
      "text/plain": [
       "  BIOSPECIMEN|ID BIOSPECIMEN|TISSUE_TYPE PARTICIPANT|CONSENT_TYPE\n",
       "0             B1                  Normal                      GRU\n",
       "1             B2                   Tumor                      GRU"
      ]
     },
     "execution_count": 29,
     "metadata": {},
     "output_type": "execute_result"
    }
   ],
   "source": [
    "df = df_dict['/sample-attr-config.py']\n",
    "for r, row in df.iterrows():\n",
    "    for c, col in enumerate(df.columns):\n",
    "        print(r, c, row[col])\n",
    "df"
   ]
  },
  {
   "cell_type": "code",
   "execution_count": 3,
   "metadata": {},
   "outputs": [],
   "source": [
    "g = nx.DiGraph()\n",
    "g.add_edges_from([('SE', 'GF'),('F', 'P'),('P', 'B'), ('B', 'GF'), ('P', 'D')])"
   ]
  },
  {
   "cell_type": "code",
   "execution_count": 6,
   "metadata": {},
   "outputs": [
    {
     "data": {
      "image/png": "[encoded data removed]",
      "text/plain": [
       "<Figure size 432x288 with 1 Axes>"
      ]
     },
     "metadata": {},
     "output_type": "display_data"
    }
   ],
   "source": [
    "nx.draw_networkx(g)"
   ]
  },
  {
   "cell_type": "code",
   "execution_count": 17,
   "metadata": {},
   "outputs": [
    {
     "name": "stdout",
     "output_type": "stream",
     "text": [
      "SE --> ['GF']\n",
      "GF --> []\n",
      "F --> ['P']\n",
      "P --> ['B', 'D']\n",
      "B --> ['GF']\n",
      "D --> []\n"
     ]
    }
   ],
   "source": [
    "for node in g.nodes:\n",
    "    print('{} --> {}'.format(node, [s for s in g.successors(node)]))"
   ]
  },
  {
   "cell_type": "code",
   "execution_count": 35,
   "metadata": {},
   "outputs": [
    {
     "data": {
      "text/plain": [
       "False"
      ]
     },
     "execution_count": 35,
     "metadata": {},
     "output_type": "execute_result"
    }
   ],
   "source": [
    "nx.algorithms.shortest_paths.generic.has_path(g, 'SE', 'F')"
   ]
  },
  {
   "cell_type": "code",
   "execution_count": null,
   "metadata": {},
   "outputs": [],
   "source": []
  }
 ],
 "metadata": {
  "kernelspec": {
   "display_name": "Python 3",
   "language": "python",
   "name": "python3"
  },
  "language_info": {
   "codemirror_mode": {
    "name": "ipython",
    "version": 3
   },
   "file_extension": ".py",
   "mimetype": "text/x-python",
   "name": "python",
   "nbconvert_exporter": "python",
   "pygments_lexer": "ipython3",
   "version": "3.6.5"
  }
 },
 "nbformat": 4,
 "nbformat_minor": 2
}
